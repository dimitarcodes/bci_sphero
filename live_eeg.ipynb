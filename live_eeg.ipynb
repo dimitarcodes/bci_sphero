{
 "cells": [
  {
   "cell_type": "code",
   "execution_count": 2,
   "metadata": {},
   "outputs": [],
   "source": [
    "import UnicornPy\n",
    "import numpy as np\n",
    "import pandas as pd\n",
    "import matplotlib.pyplot as plt\n",
    "import mne\n",
    "import socket\n",
    "from joblib import load\n",
    "import pyriemann\n",
    "\n",
    "mne.set_log_level('ERROR')"
   ]
  },
  {
   "cell_type": "code",
   "execution_count": 23,
   "metadata": {},
   "outputs": [],
   "source": [
    "def preprocess_raw(stacked_epo_data,epo_length):\n",
    "    fs = 250\n",
    "    ch_names = ['C3','Cz','C4']\n",
    "    stacked_epo_data= stacked_epo_data[1:4,:]\n",
    "    info = mne.create_info(ch_names, fs)\n",
    "    stacked_epo_mne = mne.io.RawArray(stacked_epo_data,info)\n",
    "    stacked_epo_mne.filter(8,14,picks=ch_names)\n",
    "    stacked_epo_mne.notch_filter(50,picks=ch_names)\n",
    "    epo_data = stacked_epo_mne.get_data()[:,:-epo_length]\n",
    "    return np.cov(epo_data)"
   ]
  },
  {
   "cell_type": "code",
   "execution_count": 24,
   "metadata": {},
   "outputs": [],
   "source": [
    "TestsignaleEnabled = False;\n",
    "FrameLength = 1;\n",
    "AcquisitionDurationInSeconds = 1;\n",
    "epoch_time = 2;\n",
    "# clf = load('L_Feet_clf.joblib')\n",
    "clf = load('rest_left_right_feet_classi.joblib')"
   ]
  },
  {
   "cell_type": "code",
   "execution_count": 13,
   "metadata": {},
   "outputs": [
    {
     "name": "stdout",
     "output_type": "stream",
     "text": [
      "Acquisition Configuration:\n",
      "Sampling Rate: 250 Hz\n",
      "Frame Length: 1\n",
      "Number Of Acquired Channels: 17\n",
      "Data Acquisition Length: 1 s\n",
      "\n"
     ]
    }
   ],
   "source": [
    "deviceList = UnicornPy.GetAvailableDevices(True)\n",
    "device = UnicornPy.Unicorn(deviceList[0])\n",
    "numberOfAcquiredChannels= device.GetNumberOfAcquiredChannels()\n",
    "configuration = device.GetConfiguration()\n",
    "\n",
    "print(\"Acquisition Configuration:\");\n",
    "print(\"Sampling Rate: %i Hz\" %UnicornPy.SamplingRate);\n",
    "print(\"Frame Length: %i\" %FrameLength);\n",
    "print(\"Number Of Acquired Channels: %i\" %numberOfAcquiredChannels);\n",
    "print(\"Data Acquisition Length: %i s\" %AcquisitionDurationInSeconds);\n",
    "print();\n"
   ]
  },
  {
   "cell_type": "code",
   "execution_count": 6,
   "metadata": {},
   "outputs": [],
   "source": [
    "receiveBufferBufferLength = FrameLength * numberOfAcquiredChannels * 4\n",
    "receiveBuffer = bytearray(receiveBufferBufferLength)\n",
    "device.StartAcquisition(TestsignaleEnabled)"
   ]
  },
  {
   "cell_type": "code",
   "execution_count": 7,
   "metadata": {},
   "outputs": [],
   "source": [
    "server = ('localhost', 4000)\n",
    "s = socket.socket(socket.AF_INET, socket.SOCK_DGRAM)\n",
    "s.connect(server)"
   ]
  },
  {
   "cell_type": "code",
   "execution_count": 26,
   "metadata": {},
   "outputs": [
    {
     "name": "stdout",
     "output_type": "stream",
     "text": [
      "\n",
      "Trying to connect to 'UN-2019.05.78'.\n",
      "Connected to 'UN-2019.05.78'.\n",
      "\n",
      "Acquisition Configuration:\n",
      "Sampling Rate: 250 Hz\n",
      "Frame Length: 1\n",
      "Number Of Acquired Channels: 17\n",
      "Data Acquisition Length: 1 s\n",
      "\n",
      "Data acquisition started.\n",
      "Disconnected from Unicorn\n"
     ]
    },
    {
     "ename": "KeyboardInterrupt",
     "evalue": "",
     "output_type": "error",
     "traceback": [
      "\u001b[1;31m---------------------------------------------------------------------------\u001b[0m",
      "\u001b[1;31mKeyboardInterrupt\u001b[0m                         Traceback (most recent call last)",
      "\u001b[1;32mc:\\Users\\dimitar\\Desktop\\brainio\\bci_sphero\\live_eeg.ipynb Cell 7'\u001b[0m in \u001b[0;36m<cell line: 1>\u001b[1;34m()\u001b[0m\n\u001b[0;32m     <a href='vscode-notebook-cell:/c%3A/Users/dimitar/Desktop/brainio/bci_sphero/live_eeg.ipynb#ch0000006?line=67'>68</a>\u001b[0m device\u001b[39m.\u001b[39mGetData(FrameLength,receiveBuffer,receiveBufferBufferLength)\n\u001b[0;32m     <a href='vscode-notebook-cell:/c%3A/Users/dimitar/Desktop/brainio/bci_sphero/live_eeg.ipynb#ch0000006?line=69'>70</a>\u001b[0m \u001b[39m# Convert receive buffer to numpy float array\u001b[39;00m\n\u001b[1;32m---> <a href='vscode-notebook-cell:/c%3A/Users/dimitar/Desktop/brainio/bci_sphero/live_eeg.ipynb#ch0000006?line=70'>71</a>\u001b[0m data \u001b[39m=\u001b[39m np\u001b[39m.\u001b[39mfrombuffer(receiveBuffer, dtype\u001b[39m=\u001b[39mnp\u001b[39m.\u001b[39mfloat32, count\u001b[39m=\u001b[39mnumberOfAcquiredChannels \u001b[39m*\u001b[39m FrameLength)\n\u001b[0;32m     <a href='vscode-notebook-cell:/c%3A/Users/dimitar/Desktop/brainio/bci_sphero/live_eeg.ipynb#ch0000006?line=71'>72</a>\u001b[0m data \u001b[39m=\u001b[39m np\u001b[39m.\u001b[39mreshape(data, (FrameLength, numberOfAcquiredChannels))\n\u001b[0;32m     <a href='vscode-notebook-cell:/c%3A/Users/dimitar/Desktop/brainio/bci_sphero/live_eeg.ipynb#ch0000006?line=73'>74</a>\u001b[0m curr_epoch[curr_epoch_tracker,:] \u001b[39m=\u001b[39m data\n",
      "\u001b[1;31mKeyboardInterrupt\u001b[0m: "
     ]
    }
   ],
   "source": [
    "try:\n",
    "    # Get available devices.\n",
    "    #-------------------------------------------------------------------------------------\n",
    "\n",
    "    # Get available device serials.\n",
    "    deviceList = UnicornPy.GetAvailableDevices(True)\n",
    "\n",
    "    if len(deviceList) <= 0 or deviceList is None:\n",
    "        raise Exception(\"No device available.Please pair with a Unicorn first.\")\n",
    "    deviceID = 0\n",
    "    # Open selected device.\n",
    "    #-------------------------------------------------------------------------------------\n",
    "    print()\n",
    "    print(\"Trying to connect to '%s'.\" %deviceList[deviceID])\n",
    "    device = UnicornPy.Unicorn(deviceList[deviceID])\n",
    "    print(\"Connected to '%s'.\" %deviceList[deviceID])\n",
    "    print()\n",
    "\n",
    "\n",
    "    # Initialize acquisition members.\n",
    "    #-------------------------------------------------------------------------------------\n",
    "    numberOfAcquiredChannels= device.GetNumberOfAcquiredChannels()\n",
    "    configuration = device.GetConfiguration()\n",
    "\n",
    "    # Print acquisition configuration\n",
    "    print(\"Acquisition Configuration:\");\n",
    "    print(\"Sampling Rate: %i Hz\" %UnicornPy.SamplingRate);\n",
    "    print(\"Frame Length: %i\" %FrameLength);\n",
    "    print(\"Number Of Acquired Channels: %i\" %numberOfAcquiredChannels);\n",
    "    print(\"Data Acquisition Length: %i s\" %AcquisitionDurationInSeconds);\n",
    "    print();\n",
    "\n",
    "    # Allocate memory for the acquisition buffer.\n",
    "    receiveBufferBufferLength = FrameLength * numberOfAcquiredChannels * 4\n",
    "    receiveBuffer = bytearray(receiveBufferBufferLength)\n",
    "\n",
    "    try:\n",
    "        # Start data acquisition.\n",
    "        #-------------------------------------------------------------------------------------\n",
    "        device.StartAcquisition(TestsignaleEnabled)\n",
    "        print(\"Data acquisition started.\")\n",
    "\n",
    "        # Calculate number of get data calls.\n",
    "        numberOfGetDataCalls = int(AcquisitionDurationInSeconds * UnicornPy.SamplingRate / FrameLength);\n",
    "    \n",
    "        # Limit console update rate to max. 25Hz or slower to prevent acquisition timing issues.                   \n",
    "        consoleUpdateRate = int((UnicornPy.SamplingRate / FrameLength) / 25.0);\n",
    "        if consoleUpdateRate == 0:\n",
    "            consoleUpdateRate = 1\n",
    "\n",
    "        # Keeping track of last few epochs\n",
    "        \n",
    "        epoch_samples = epoch_time*UnicornPy.SamplingRate\n",
    "        back_burner_size = 10 # epochs\n",
    "        back_burner_samples = back_burner_size*epoch_samples\n",
    "\n",
    "        back_burner = np.zeros((back_burner_samples,numberOfAcquiredChannels))\n",
    "        #front_burner = np.zeros((back_burner_samples, numberOfAcquiredChannels))\n",
    "\n",
    "        back_burner_tracker = 0\n",
    "\n",
    "        curr_epoch = np.zeros((epoch_samples, numberOfAcquiredChannels))\n",
    "        curr_epoch_tracker = 0\n",
    "        # Acquisition loop.\n",
    "        #-------------------------------------------------------------------------------------\n",
    "        while True:\n",
    "            # Receives the configured number of samples from the Unicorn device and writes it to the acquisition buffer.\n",
    "            device.GetData(FrameLength,receiveBuffer,receiveBufferBufferLength)\n",
    "\n",
    "            # Convert receive buffer to numpy float array\n",
    "            data = np.frombuffer(receiveBuffer, dtype=np.float32, count=numberOfAcquiredChannels * FrameLength)\n",
    "            data = np.reshape(data, (FrameLength, numberOfAcquiredChannels))\n",
    "\n",
    "            curr_epoch[curr_epoch_tracker,:] = data\n",
    "            curr_epoch_tracker += 1\n",
    "\n",
    "            if curr_epoch_tracker == epoch_samples:\n",
    "                if back_burner_tracker<10:\n",
    "                    bb_time = back_burner_tracker*UnicornPy.SamplingRate\n",
    "                    bb_new = bb_time+epoch_samples\n",
    "                    back_burner[bb_time:bb_new,:] = curr_epoch\n",
    "                    back_burner_tracker += 1\n",
    "        \n",
    "                else:\n",
    "                    back_burner[0:-epoch_samples,:] = back_burner[epoch_samples:back_burner_samples,:]\n",
    "                    back_burner[-epoch_samples:back_burner_samples,:] = curr_epoch\n",
    "                    curr_cov = preprocess_raw(back_burner.T, epoch_samples)\n",
    "                    curr_cov = curr_cov[None, :, :]\n",
    "                    curr_pred = str(clf.predict(curr_cov)[0])\n",
    "                    s.sendto(curr_pred.encode('utf-8'), server)\n",
    "                    \n",
    "            \n",
    "                curr_epoch = np.zeros((epoch_samples, numberOfAcquiredChannels))\n",
    "                curr_epoch_tracker = 0\n",
    "                \n",
    "            # np.savetxt(file,data,delimiter=',',fmt='%.3f',newline='\\n')\n",
    "            \n",
    "\n",
    "        # Stop data acquisition.\n",
    "        #-------------------------------------------------------------------------------------\n",
    "        device.StopAcquisition();\n",
    "        print()\n",
    "        print(\"Data acquisition stopped.\");\n",
    "\n",
    "    except UnicornPy.DeviceException as e:\n",
    "        print(e)\n",
    "    except Exception as e:\n",
    "        print(\"An unknown error occured. %s\" %e)\n",
    "    finally:\n",
    "        # release receive allocated memory of receive buffer\n",
    "        del receiveBuffer\n",
    "\n",
    "        # Close device.\n",
    "        #-------------------------------------------------------------------------------------\n",
    "        del device\n",
    "        print(\"Disconnected from Unicorn\")\n",
    "\n",
    "except UnicornPy.DeviceException as e:\n",
    "    print(e)\n",
    "except Exception as e:\n",
    "    print(\"An unknown error occured. %s\" %e)\n",
    "\n",
    "print('Acquisition Over')\n"
   ]
  },
  {
   "cell_type": "code",
   "execution_count": null,
   "metadata": {},
   "outputs": [],
   "source": []
  }
 ],
 "metadata": {
  "interpreter": {
   "hash": "63fd5069d213b44bf678585dea6b12cceca9941eaf7f819626cde1f2670de90d"
  },
  "kernelspec": {
   "display_name": "Python 3.9.9 64-bit (system)",
   "language": "python",
   "name": "python3"
  },
  "language_info": {
   "codemirror_mode": {
    "name": "ipython",
    "version": 3
   },
   "file_extension": ".py",
   "mimetype": "text/x-python",
   "name": "python",
   "nbconvert_exporter": "python",
   "pygments_lexer": "ipython3",
   "version": "3.9.9"
  },
  "orig_nbformat": 4
 },
 "nbformat": 4,
 "nbformat_minor": 2
}
